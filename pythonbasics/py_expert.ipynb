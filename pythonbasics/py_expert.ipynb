{
 "cells": [
  {
   "cell_type": "code",
   "execution_count": null,
   "metadata": {},
   "outputs": [],
   "source": [
    "# some behavior that I want to implement -> write some __function__\n",
    "# top-level function or top-level syntax -> corresponding __\n",
    "# x + y -. __add__\n",
    "# init x -> __init__\n",
    "# repr(x) --> __repr__\n",
    "# x() -> __call__\n",
    "\n",
    "class Polynomial:\n",
    "\tdef __init__(self, *coeffs):\n",
    "\t\tself.coeffs = coeffs\n",
    "\n",
    "\tdef __repr__(self):\n",
    "\t\treturn 'Polynomial(*{!r})'.format(self.coeffs)\n",
    "\n",
    "\tdef __add__(self, other):\n",
    "\t\treturn Polynomial(*(x + y for x, y in zip(self.coeffs, other.coeffs)))\n",
    "\n",
    "\tdef __len__(self):\n",
    "\t\treturn len(self.coeffs)\n",
    "\n",
    "\tdef __call__(self):\n",
    "\t\tpass"
   ]
  }
 ],
 "metadata": {},
 "nbformat": 4,
 "nbformat_minor": 0
}
